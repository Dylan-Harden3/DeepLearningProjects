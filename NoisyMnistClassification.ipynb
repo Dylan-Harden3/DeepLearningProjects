{
  "nbformat": 4,
  "nbformat_minor": 0,
  "metadata": {
    "colab": {
      "provenance": [],
      "gpuType": "T4"
    },
    "kernelspec": {
      "name": "python3",
      "display_name": "Python 3"
    },
    "language_info": {
      "name": "python"
    },
    "accelerator": "GPU"
  },
  "cells": [
    {
      "cell_type": "markdown",
      "source": [
        "To start we'll just load our dataset of noisy images to see what they look like"
      ],
      "metadata": {
        "id": "8fopuoZESvgB"
      }
    },
    {
      "cell_type": "code",
      "source": [
        "import pickle\n",
        "\n",
        "noisy_images = pickle.load(open('noisy_images', 'rb')).numpy()\n",
        "noisy_labels = pickle.load(open('noisy_labels', 'rb')).numpy()\n",
        "\n",
        "print(noisy_images.shape)\n",
        "print(noisy_labels.shape)"
      ],
      "metadata": {
        "colab": {
          "base_uri": "https://localhost:8080/"
        },
        "id": "sbxSzB8VS4Fo",
        "outputId": "ba32cbe4-0fc0-4826-af48-c2c6342b436c"
      },
      "execution_count": null,
      "outputs": [
        {
          "output_type": "stream",
          "name": "stdout",
          "text": [
            "(60000, 28, 28)\n",
            "(60000,)\n"
          ]
        }
      ]
    },
    {
      "cell_type": "markdown",
      "source": [
        "Lets select 5 random images"
      ],
      "metadata": {
        "id": "FDBSF_hOUBYn"
      }
    },
    {
      "cell_type": "code",
      "source": [
        "import matplotlib.pyplot as plt\n",
        "import matplotlib.image as mpimg\n",
        "import random\n",
        "\n",
        "random_idxs = random.sample(range(len(noisy_images)), 5)\n",
        "plt.figure(figsize=(15, 3))\n",
        "\n",
        "for i, index in enumerate(random_idxs, 1):\n",
        "    plt.subplot(1, 5, i)\n",
        "    image = noisy_images[index]\n",
        "    label = noisy_labels[index]\n",
        "\n",
        "    plt.imshow(image, cmap='gray')\n",
        "    plt.title(f'Label: {label}')\n",
        "    plt.axis('off')\n",
        "\n",
        "plt.show()"
      ],
      "metadata": {
        "colab": {
          "base_uri": "https://localhost:8080/",
          "height": 174
        },
        "id": "BgQ3aCrRUBAk",
        "outputId": "e8020822-d9ba-4046-9ff7-b5f459321fb2"
      },
      "execution_count": null,
      "outputs": [
        {
          "output_type": "display_data",
          "data": {
            "text/plain": [
              "<Figure size 1500x300 with 5 Axes>"
            ],
            "image/png": "[encoded data removed]"
          },
          "metadata": {}
        }
      ]
    },
    {
      "cell_type": "markdown",
      "source": [
        "It's clear that us humans cannot classify these images but lets see if we can train a neural net to do it for us"
      ],
      "metadata": {
        "id": "nEVEiGP8WVmk"
      }
    },
    {
      "cell_type": "markdown",
      "source": [
        "For a start lets see what happens if we use a standard CNN"
      ],
      "metadata": {
        "id": "c8LlzeIDW0YO"
      }
    },
    {
      "cell_type": "code",
      "source": [
        "import tensorflow as tf\n",
        "from tensorflow import keras\n",
        "from keras import layers\n",
        "\n",
        "def get_model():\n",
        "    inputs = layers.Input(shape=(28, 28, 1)) # images are 28x28 (see first cell)\n",
        "    x = layers.Rescaling(1.0/255.0)(inputs) # images have values in range 0-255 so we scale down for better learning\n",
        "    for size in [16, 32]:\n",
        "        x = layers.Conv2D(filters=size, kernel_size=3, padding=\"same\", activation=\"relu\")(x)\n",
        "        x = layers.Conv2D(filters=size, kernel_size=3, padding=\"same\", activation=\"relu\")(x)\n",
        "        x = layers.Conv2D(filters=size, kernel_size=3, padding=\"same\", activation=\"relu\")(x)\n",
        "        x = layers.MaxPooling2D(pool_size=2)(x)\n",
        "    x = layers.Conv2D(filters=64, kernel_size=3, padding=\"same\", activation=\"relu\")(x)\n",
        "    x = layers.MaxPooling2D(pool_size=2)(x)\n",
        "    x = layers.Flatten()(x)\n",
        "    x = layers.Dropout(0.5)(x) # prevent overfitting\n",
        "    outputs = layers.Dense(10, activation=\"softmax\")(x)\n",
        "    model = keras.Model(inputs=inputs, outputs=outputs)\n",
        "    model.compile(loss=\"sparse_categorical_crossentropy\", optimizer=\"rmsprop\", metrics=[\"accuracy\"])\n",
        "    return model"
      ],
      "metadata": {
        "id": "VAE0rmhPWqB3"
      },
      "execution_count": null,
      "outputs": []
    },
    {
      "cell_type": "markdown",
      "source": [
        "Now that we have our model lest partition the datasets and train"
      ],
      "metadata": {
        "id": "mPQYu_ENcEbY"
      }
    },
    {
      "cell_type": "code",
      "source": [
        "import numpy as np\n",
        "\n",
        "train_images = noisy_images[10000:]\n",
        "train_labels = noisy_labels[10000:]\n",
        "\n",
        "validation_images = noisy_images[5000:10000]\n",
        "validation_labels = noisy_labels[5000:10000]\n",
        "\n",
        "callbacks = [\n",
        "  keras.callbacks.ModelCheckpoint(\"../Models/CNN_Model.h5\", save_best_only=True, monitor=\"val_loss\"),\n",
        "  keras.callbacks.EarlyStopping(monitor='val_loss', patience=5, restore_best_weights=True)\n",
        "]\n",
        "\n",
        "model = get_model()\n",
        "\n",
        "model.fit(train_images, train_labels,\n",
        "batch_size=256,\n",
        "epochs=50,\n",
        "validation_data=(validation_images, validation_labels),\n",
        "callbacks=callbacks)"
      ],
      "metadata": {
        "colab": {
          "base_uri": "https://localhost:8080/"
        },
        "id": "uY8Qryd1aUN9",
        "outputId": "07c6fc13-d249-4a22-ec00-23d89fc6ba51"
      },
      "execution_count": null,
      "outputs": [
        {
          "output_type": "stream",
          "name": "stdout",
          "text": [
            "Epoch 1/50\n",
            "196/196 [==============================] - 7s 14ms/step - loss: 2.3017 - accuracy: 0.1094 - val_loss: 2.2999 - val_accuracy: 0.1086\n",
            "Epoch 2/50\n",
            " 11/196 [>.............................] - ETA: 2s - loss: 2.2990 - accuracy: 0.1222"
          ]
        },
        {
          "output_type": "stream",
          "name": "stderr",
          "text": [
            "/usr/local/lib/python3.10/dist-packages/keras/src/engine/training.py:3103: UserWarning: You are saving your model as an HDF5 file via `model.save()`. This file format is considered legacy. We recommend using instead the native Keras format, e.g. `model.save('my_model.keras')`.\n",
            "  saving_api.save_model(\n"
          ]
        },
        {
          "output_type": "stream",
          "name": "stdout",
          "text": [
            "196/196 [==============================] - 2s 13ms/step - loss: 2.1895 - accuracy: 0.1933 - val_loss: 2.0113 - val_accuracy: 0.2826\n",
            "Epoch 3/50\n",
            "196/196 [==============================] - 3s 14ms/step - loss: 2.0054 - accuracy: 0.2899 - val_loss: 1.8845 - val_accuracy: 0.3448\n",
            "Epoch 4/50\n",
            "196/196 [==============================] - 3s 15ms/step - loss: 1.8121 - accuracy: 0.3684 - val_loss: 1.6033 - val_accuracy: 0.4380\n",
            "Epoch 5/50\n",
            "196/196 [==============================] - 3s 13ms/step - loss: 1.5782 - accuracy: 0.4560 - val_loss: 1.5455 - val_accuracy: 0.5024\n",
            "Epoch 6/50\n",
            "196/196 [==============================] - 3s 13ms/step - loss: 1.4515 - accuracy: 0.5023 - val_loss: 1.3225 - val_accuracy: 0.5398\n",
            "Epoch 7/50\n",
            "196/196 [==============================] - 3s 13ms/step - loss: 1.3679 - accuracy: 0.5333 - val_loss: 1.2662 - val_accuracy: 0.5666\n",
            "Epoch 8/50\n",
            "196/196 [==============================] - 3s 13ms/step - loss: 1.3161 - accuracy: 0.5532 - val_loss: 1.2967 - val_accuracy: 0.5682\n",
            "Epoch 9/50\n",
            "196/196 [==============================] - 2s 12ms/step - loss: 1.2711 - accuracy: 0.5694 - val_loss: 1.2870 - val_accuracy: 0.5562\n",
            "Epoch 10/50\n",
            "196/196 [==============================] - 3s 13ms/step - loss: 1.2423 - accuracy: 0.5789 - val_loss: 1.2222 - val_accuracy: 0.5826\n",
            "Epoch 11/50\n",
            "196/196 [==============================] - 3s 13ms/step - loss: 1.2065 - accuracy: 0.5907 - val_loss: 1.1496 - val_accuracy: 0.6158\n",
            "Epoch 12/50\n",
            "196/196 [==============================] - 3s 14ms/step - loss: 1.1722 - accuracy: 0.6040 - val_loss: 1.1229 - val_accuracy: 0.6294\n",
            "Epoch 13/50\n",
            "196/196 [==============================] - 3s 14ms/step - loss: 1.1485 - accuracy: 0.6108 - val_loss: 1.1217 - val_accuracy: 0.6224\n",
            "Epoch 14/50\n",
            "196/196 [==============================] - 2s 13ms/step - loss: 1.1248 - accuracy: 0.6173 - val_loss: 1.1083 - val_accuracy: 0.6262\n",
            "Epoch 15/50\n",
            "196/196 [==============================] - 2s 13ms/step - loss: 1.1079 - accuracy: 0.6268 - val_loss: 1.1111 - val_accuracy: 0.6246\n",
            "Epoch 16/50\n",
            "196/196 [==============================] - 2s 12ms/step - loss: 1.0922 - accuracy: 0.6293 - val_loss: 1.1823 - val_accuracy: 0.6042\n",
            "Epoch 17/50\n",
            "196/196 [==============================] - 3s 13ms/step - loss: 1.0809 - accuracy: 0.6353 - val_loss: 1.1261 - val_accuracy: 0.6200\n",
            "Epoch 18/50\n",
            "196/196 [==============================] - 3s 16ms/step - loss: 1.0683 - accuracy: 0.6369 - val_loss: 1.0972 - val_accuracy: 0.6258\n",
            "Epoch 19/50\n",
            "196/196 [==============================] - 3s 13ms/step - loss: 1.0560 - accuracy: 0.6398 - val_loss: 1.1795 - val_accuracy: 0.5904\n",
            "Epoch 20/50\n",
            "196/196 [==============================] - 2s 12ms/step - loss: 1.0476 - accuracy: 0.6431 - val_loss: 1.0512 - val_accuracy: 0.6476\n",
            "Epoch 21/50\n",
            "196/196 [==============================] - 2s 13ms/step - loss: 1.0353 - accuracy: 0.6502 - val_loss: 1.0653 - val_accuracy: 0.6450\n",
            "Epoch 22/50\n",
            "196/196 [==============================] - 3s 13ms/step - loss: 1.0270 - accuracy: 0.6507 - val_loss: 1.0436 - val_accuracy: 0.6514\n",
            "Epoch 23/50\n",
            "196/196 [==============================] - 2s 12ms/step - loss: 1.0130 - accuracy: 0.6544 - val_loss: 1.0844 - val_accuracy: 0.6396\n",
            "Epoch 24/50\n",
            "196/196 [==============================] - 2s 12ms/step - loss: 1.0080 - accuracy: 0.6558 - val_loss: 1.0947 - val_accuracy: 0.6314\n",
            "Epoch 25/50\n",
            "196/196 [==============================] - 2s 12ms/step - loss: 1.0007 - accuracy: 0.6584 - val_loss: 1.0722 - val_accuracy: 0.6328\n",
            "Epoch 26/50\n",
            "196/196 [==============================] - 3s 15ms/step - loss: 0.9938 - accuracy: 0.6620 - val_loss: 1.0240 - val_accuracy: 0.6566\n",
            "Epoch 27/50\n",
            "196/196 [==============================] - 3s 14ms/step - loss: 0.9883 - accuracy: 0.6609 - val_loss: 1.0100 - val_accuracy: 0.6586\n",
            "Epoch 28/50\n",
            "196/196 [==============================] - 2s 12ms/step - loss: 0.9790 - accuracy: 0.6667 - val_loss: 1.0940 - val_accuracy: 0.6362\n",
            "Epoch 29/50\n",
            "196/196 [==============================] - 2s 12ms/step - loss: 0.9716 - accuracy: 0.6650 - val_loss: 1.0804 - val_accuracy: 0.6276\n",
            "Epoch 30/50\n",
            "196/196 [==============================] - 2s 12ms/step - loss: 0.9678 - accuracy: 0.6689 - val_loss: 1.0562 - val_accuracy: 0.6518\n",
            "Epoch 31/50\n",
            "196/196 [==============================] - 3s 13ms/step - loss: 0.9648 - accuracy: 0.6700 - val_loss: 1.0156 - val_accuracy: 0.6568\n",
            "Epoch 32/50\n",
            "196/196 [==============================] - 3s 13ms/step - loss: 0.9552 - accuracy: 0.6750 - val_loss: 1.0564 - val_accuracy: 0.6548\n"
          ]
        },
        {
          "output_type": "execute_result",
          "data": {
            "text/plain": [
              "<keras.src.callbacks.History at 0x7c72dcb71180>"
            ]
          },
          "metadata": {},
          "execution_count": 8
        }
      ]
    },
    {
      "cell_type": "markdown",
      "source": [
        "Now lets test our model on the test dataset"
      ],
      "metadata": {
        "id": "lBtP0wJceX-r"
      }
    },
    {
      "cell_type": "code",
      "source": [
        "from tensorflow.keras.models import load_model\n",
        "\n",
        "test_images = noisy_images[:5000]\n",
        "test_labels = noisy_labels[:5000]\n",
        "\n",
        "model = load_model('../Models/CNN_Model.h5')\n",
        "\n",
        "results = model.evaluate(test_images, test_labels)\n",
        "print(f\"Test Accuracy: {results[1]}\")"
      ],
      "metadata": {
        "colab": {
          "base_uri": "https://localhost:8080/"
        },
        "id": "HsOTKeWjec4D",
        "outputId": "10537c18-8814-4c7a-b262-0be59a8ce380"
      },
      "execution_count": null,
      "outputs": [
        {
          "output_type": "stream",
          "name": "stdout",
          "text": [
            "157/157 [==============================] - 1s 4ms/step - loss: 1.0392 - accuracy: 0.6472\n",
            "Test Accuracy: 0.6471999883651733\n"
          ]
        }
      ]
    },
    {
      "cell_type": "markdown",
      "source": [
        "So our baseline is 64%, lets see if we can improve this."
      ],
      "metadata": {
        "id": "XCyjcWDUf9Kj"
      }
    }
  ]
}