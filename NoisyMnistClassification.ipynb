{
  "nbformat": 4,
  "nbformat_minor": 0,
  "metadata": {
    "colab": {
      "provenance": [],
      "gpuType": "T4"
    },
    "kernelspec": {
      "name": "python3",
      "display_name": "Python 3"
    },
    "language_info": {
      "name": "python"
    },
    "accelerator": "GPU"
  },
  "cells": [
    {
      "cell_type": "markdown",
      "source": [
        "To start we'll just load our dataset of noisy images to see what they look like"
      ],
      "metadata": {
        "id": "8fopuoZESvgB"
      }
    },
    {
      "cell_type": "code",
      "source": [
        "import pickle\n",
        "\n",
        "noisy_images = pickle.load(open('noisy_images', 'rb')).numpy() / 255.0 # normalize pixels to 0-1\n",
        "noisy_labels = pickle.load(open('noisy_labels', 'rb')).numpy()\n",
        "\n",
        "print(noisy_images.shape)\n",
        "print(noisy_labels.shape)"
      ],
      "metadata": {
        "colab": {
          "base_uri": "https://localhost:8080/"
        },
        "id": "sbxSzB8VS4Fo",
        "outputId": "3206d538-86e6-4279-b404-d75749288327"
      },
      "execution_count": 22,
      "outputs": [
        {
          "output_type": "stream",
          "name": "stdout",
          "text": [
            "(60000, 28, 28)\n",
            "(60000,)\n"
          ]
        }
      ]
    },
    {
      "cell_type": "markdown",
      "source": [
        "Lets select 5 random images"
      ],
      "metadata": {
        "id": "FDBSF_hOUBYn"
      }
    },
    {
      "cell_type": "code",
      "source": [
        "import matplotlib.pyplot as plt\n",
        "import matplotlib.image as mpimg\n",
        "import random\n",
        "\n",
        "random_idxs = random.sample(range(len(noisy_images)), 5)\n",
        "plt.figure(figsize=(15, 3))\n",
        "\n",
        "for i, index in enumerate(random_idxs, 1):\n",
        "    plt.subplot(1, 5, i)\n",
        "    image = noisy_images[index]\n",
        "    label = noisy_labels[index]\n",
        "\n",
        "    plt.imshow(image, cmap='gray')\n",
        "    plt.title(f'Label: {label}')\n",
        "    plt.axis('off')\n",
        "\n",
        "plt.show()"
      ],
      "metadata": {
        "colab": {
          "base_uri": "https://localhost:8080/",
          "height": 244
        },
        "id": "BgQ3aCrRUBAk",
        "outputId": "a5b2812d-c62c-4a50-cb8b-8535a9655257"
      },
      "execution_count": 2,
      "outputs": [
        {
          "output_type": "display_data",
          "data": {
            "text/plain": [
              "<Figure size 1500x300 with 5 Axes>"
            ],
            "image/png": "[encoded data removed]"
          },
          "metadata": {}
        }
      ]
    },
    {
      "cell_type": "markdown",
      "source": [
        "It's clear that us humans cannot classify these images but lets see if we can train a neural net to do it for us"
      ],
      "metadata": {
        "id": "nEVEiGP8WVmk"
      }
    },
    {
      "cell_type": "markdown",
      "source": [
        "For a start lets see what happens if we use a standard CNN"
      ],
      "metadata": {
        "id": "c8LlzeIDW0YO"
      }
    },
    {
      "cell_type": "code",
      "source": [
        "import tensorflow as tf\n",
        "from tensorflow import keras\n",
        "from keras import layers\n",
        "\n",
        "def get_model():\n",
        "    inputs = layers.Input(shape=(28, 28, 1)) # images are 28x28 (see first cell)\n",
        "    sizes = [16, 32]\n",
        "    for size in sizes:\n",
        "        x = layers.Conv2D(filters=size, kernel_size=3, padding=\"same\", activation=\"relu\")(inputs if size==sizes[0] else x)\n",
        "        x = layers.Conv2D(filters=size, kernel_size=3, padding=\"same\", activation=\"relu\")(x)\n",
        "        x = layers.Conv2D(filters=size, kernel_size=3, padding=\"same\", activation=\"relu\")(x)\n",
        "        x = layers.MaxPooling2D(pool_size=2)(x)\n",
        "    x = layers.Conv2D(filters=64, kernel_size=3, padding=\"same\", activation=\"relu\")(x)\n",
        "    x = layers.MaxPooling2D(pool_size=2)(x)\n",
        "    x = layers.Flatten()(x)\n",
        "    # x = layers.Dense(128, activation=\"relu\")(x)\n",
        "    x = layers.Dropout(0.5)(x) # prevent overfitting\n",
        "    outputs = layers.Dense(10, activation=\"softmax\")(x)\n",
        "    model = keras.Model(inputs=inputs, outputs=outputs)\n",
        "    model.compile(loss=\"sparse_categorical_crossentropy\", optimizer=\"rmsprop\", metrics=[\"accuracy\"])\n",
        "    return model"
      ],
      "metadata": {
        "id": "VAE0rmhPWqB3"
      },
      "execution_count": 8,
      "outputs": []
    },
    {
      "cell_type": "markdown",
      "source": [
        "Now that we have our model lest partition the datasets and train"
      ],
      "metadata": {
        "id": "mPQYu_ENcEbY"
      }
    },
    {
      "cell_type": "code",
      "source": [
        "import numpy as np\n",
        "\n",
        "train_images = noisy_images[10000:]\n",
        "train_labels = noisy_labels[10000:]\n",
        "\n",
        "validation_images = noisy_images[5000:10000]\n",
        "validation_labels = noisy_labels[5000:10000]\n",
        "\n",
        "callbacks = [\n",
        "  keras.callbacks.ModelCheckpoint(\"CNN_Model.h5\", save_best_only=True, monitor=\"val_loss\"),\n",
        "  keras.callbacks.EarlyStopping(monitor='val_loss', patience=5, restore_best_weights=True)\n",
        "]\n",
        "\n",
        "model = get_model()\n",
        "\n",
        "model.fit(train_images, train_labels,\n",
        "batch_size=256,\n",
        "epochs=50,\n",
        "validation_data=(validation_images, validation_labels),\n",
        "callbacks=callbacks)"
      ],
      "metadata": {
        "colab": {
          "base_uri": "https://localhost:8080/"
        },
        "id": "uY8Qryd1aUN9",
        "outputId": "070228ad-7ca0-4ca1-c1e9-dc8c503065cd"
      },
      "execution_count": 23,
      "outputs": [
        {
          "output_type": "stream",
          "name": "stdout",
          "text": [
            "Epoch 1/50\n",
            "196/196 [==============================] - 4s 15ms/step - loss: 2.3019 - accuracy: 0.1095 - val_loss: 2.3009 - val_accuracy: 0.1086\n",
            "Epoch 2/50\n",
            " 10/196 [>.............................] - ETA: 2s - loss: 2.3015 - accuracy: 0.1063"
          ]
        },
        {
          "output_type": "stream",
          "name": "stderr",
          "text": [
            "/usr/local/lib/python3.10/dist-packages/keras/src/engine/training.py:3103: UserWarning: You are saving your model as an HDF5 file via `model.save()`. This file format is considered legacy. We recommend using instead the native Keras format, e.g. `model.save('my_model.keras')`.\n",
            "  saving_api.save_model(\n"
          ]
        },
        {
          "output_type": "stream",
          "name": "stdout",
          "text": [
            "196/196 [==============================] - 2s 12ms/step - loss: 2.3015 - accuracy: 0.1121 - val_loss: 2.3004 - val_accuracy: 0.1086\n",
            "Epoch 3/50\n",
            "196/196 [==============================] - 2s 12ms/step - loss: 2.3015 - accuracy: 0.1117 - val_loss: 2.3009 - val_accuracy: 0.1086\n",
            "Epoch 4/50\n",
            "196/196 [==============================] - 3s 13ms/step - loss: 2.3014 - accuracy: 0.1117 - val_loss: 2.3004 - val_accuracy: 0.1086\n",
            "Epoch 5/50\n",
            "196/196 [==============================] - 3s 13ms/step - loss: 2.2193 - accuracy: 0.1748 - val_loss: 2.0218 - val_accuracy: 0.2818\n",
            "Epoch 6/50\n",
            "196/196 [==============================] - 3s 14ms/step - loss: 1.9688 - accuracy: 0.3047 - val_loss: 1.7662 - val_accuracy: 0.3972\n",
            "Epoch 7/50\n",
            "196/196 [==============================] - 2s 12ms/step - loss: 1.6659 - accuracy: 0.4246 - val_loss: 1.4578 - val_accuracy: 0.4922\n",
            "Epoch 8/50\n",
            "196/196 [==============================] - 3s 13ms/step - loss: 1.4987 - accuracy: 0.4896 - val_loss: 1.3873 - val_accuracy: 0.5290\n",
            "Epoch 9/50\n",
            "196/196 [==============================] - 3s 13ms/step - loss: 1.4071 - accuracy: 0.5186 - val_loss: 1.3013 - val_accuracy: 0.5628\n",
            "Epoch 10/50\n",
            "196/196 [==============================] - 3s 13ms/step - loss: 1.3529 - accuracy: 0.5394 - val_loss: 1.2441 - val_accuracy: 0.5682\n",
            "Epoch 11/50\n",
            "196/196 [==============================] - 3s 13ms/step - loss: 1.3098 - accuracy: 0.5553 - val_loss: 1.6936 - val_accuracy: 0.4428\n",
            "Epoch 12/50\n",
            "196/196 [==============================] - 2s 12ms/step - loss: 1.2773 - accuracy: 0.5648 - val_loss: 1.2853 - val_accuracy: 0.5724\n",
            "Epoch 13/50\n",
            "196/196 [==============================] - 2s 12ms/step - loss: 1.2490 - accuracy: 0.5769 - val_loss: 1.4839 - val_accuracy: 0.5516\n",
            "Epoch 14/50\n",
            "196/196 [==============================] - 3s 13ms/step - loss: 1.2222 - accuracy: 0.5870 - val_loss: 1.2156 - val_accuracy: 0.5950\n",
            "Epoch 15/50\n",
            "196/196 [==============================] - 3s 14ms/step - loss: 1.2027 - accuracy: 0.5930 - val_loss: 1.1666 - val_accuracy: 0.6050\n",
            "Epoch 16/50\n",
            "196/196 [==============================] - 3s 14ms/step - loss: 1.1860 - accuracy: 0.5956 - val_loss: 1.1422 - val_accuracy: 0.6124\n",
            "Epoch 17/50\n",
            "196/196 [==============================] - 3s 13ms/step - loss: 1.1643 - accuracy: 0.6030 - val_loss: 1.1796 - val_accuracy: 0.6048\n",
            "Epoch 18/50\n",
            "196/196 [==============================] - 3s 13ms/step - loss: 1.1562 - accuracy: 0.6066 - val_loss: 1.1441 - val_accuracy: 0.6118\n",
            "Epoch 19/50\n",
            "196/196 [==============================] - 3s 13ms/step - loss: 1.1404 - accuracy: 0.6113 - val_loss: 1.1349 - val_accuracy: 0.6150\n",
            "Epoch 20/50\n",
            "196/196 [==============================] - 3s 13ms/step - loss: 1.1235 - accuracy: 0.6185 - val_loss: 1.1382 - val_accuracy: 0.6108\n",
            "Epoch 21/50\n",
            "196/196 [==============================] - 2s 13ms/step - loss: 1.1103 - accuracy: 0.6225 - val_loss: 1.1071 - val_accuracy: 0.6252\n",
            "Epoch 22/50\n",
            "196/196 [==============================] - 2s 12ms/step - loss: 1.0959 - accuracy: 0.6266 - val_loss: 1.1016 - val_accuracy: 0.6324\n",
            "Epoch 23/50\n",
            "196/196 [==============================] - 2s 13ms/step - loss: 1.0833 - accuracy: 0.6308 - val_loss: 1.1623 - val_accuracy: 0.6014\n",
            "Epoch 24/50\n",
            "196/196 [==============================] - 3s 13ms/step - loss: 1.0693 - accuracy: 0.6364 - val_loss: 1.1212 - val_accuracy: 0.6168\n",
            "Epoch 25/50\n",
            "196/196 [==============================] - 3s 13ms/step - loss: 1.0598 - accuracy: 0.6378 - val_loss: 1.1093 - val_accuracy: 0.6262\n",
            "Epoch 26/50\n",
            "196/196 [==============================] - 2s 12ms/step - loss: 1.0499 - accuracy: 0.6431 - val_loss: 1.0767 - val_accuracy: 0.6366\n",
            "Epoch 27/50\n",
            "196/196 [==============================] - 2s 13ms/step - loss: 1.0398 - accuracy: 0.6451 - val_loss: 1.0645 - val_accuracy: 0.6418\n",
            "Epoch 28/50\n",
            "196/196 [==============================] - 3s 13ms/step - loss: 1.0302 - accuracy: 0.6500 - val_loss: 1.0570 - val_accuracy: 0.6392\n",
            "Epoch 29/50\n",
            "196/196 [==============================] - 3s 15ms/step - loss: 1.0216 - accuracy: 0.6518 - val_loss: 1.0316 - val_accuracy: 0.6476\n",
            "Epoch 30/50\n",
            "196/196 [==============================] - 3s 13ms/step - loss: 1.0142 - accuracy: 0.6537 - val_loss: 1.1801 - val_accuracy: 0.5942\n",
            "Epoch 31/50\n",
            "196/196 [==============================] - 2s 12ms/step - loss: 1.0098 - accuracy: 0.6568 - val_loss: 1.0533 - val_accuracy: 0.6530\n",
            "Epoch 32/50\n",
            "196/196 [==============================] - 3s 13ms/step - loss: 0.9985 - accuracy: 0.6602 - val_loss: 1.0392 - val_accuracy: 0.6484\n",
            "Epoch 33/50\n",
            "196/196 [==============================] - 3s 14ms/step - loss: 0.9960 - accuracy: 0.6600 - val_loss: 1.0594 - val_accuracy: 0.6416\n",
            "Epoch 34/50\n",
            "196/196 [==============================] - 3s 14ms/step - loss: 0.9845 - accuracy: 0.6645 - val_loss: 1.0141 - val_accuracy: 0.6602\n",
            "Epoch 35/50\n",
            "196/196 [==============================] - 2s 13ms/step - loss: 0.9797 - accuracy: 0.6647 - val_loss: 1.1210 - val_accuracy: 0.6156\n",
            "Epoch 36/50\n",
            "196/196 [==============================] - 2s 12ms/step - loss: 0.9755 - accuracy: 0.6674 - val_loss: 1.0195 - val_accuracy: 0.6558\n",
            "Epoch 37/50\n",
            "196/196 [==============================] - 2s 12ms/step - loss: 0.9651 - accuracy: 0.6699 - val_loss: 1.0046 - val_accuracy: 0.6598\n",
            "Epoch 38/50\n",
            "196/196 [==============================] - 2s 13ms/step - loss: 0.9599 - accuracy: 0.6706 - val_loss: 1.0401 - val_accuracy: 0.6502\n",
            "Epoch 39/50\n",
            "196/196 [==============================] - 3s 13ms/step - loss: 0.9579 - accuracy: 0.6714 - val_loss: 1.0147 - val_accuracy: 0.6566\n",
            "Epoch 40/50\n",
            "196/196 [==============================] - 3s 13ms/step - loss: 0.9466 - accuracy: 0.6752 - val_loss: 1.0534 - val_accuracy: 0.6482\n",
            "Epoch 41/50\n",
            "196/196 [==============================] - 3s 13ms/step - loss: 0.9486 - accuracy: 0.6734 - val_loss: 1.0161 - val_accuracy: 0.6576\n",
            "Epoch 42/50\n",
            "196/196 [==============================] - 2s 12ms/step - loss: 0.9414 - accuracy: 0.6766 - val_loss: 1.0582 - val_accuracy: 0.6492\n"
          ]
        },
        {
          "output_type": "execute_result",
          "data": {
            "text/plain": [
              "<keras.src.callbacks.History at 0x7bce2dae4dc0>"
            ]
          },
          "metadata": {},
          "execution_count": 23
        }
      ]
    },
    {
      "cell_type": "markdown",
      "source": [
        "Now lets test our model on the test dataset"
      ],
      "metadata": {
        "id": "lBtP0wJceX-r"
      }
    },
    {
      "cell_type": "code",
      "source": [
        "from tensorflow.keras.models import load_model\n",
        "\n",
        "test_images = noisy_images[:5000]\n",
        "test_labels = noisy_labels[:5000]\n",
        "\n",
        "model = load_model('CNN_Model.h5')\n",
        "\n",
        "results = model.evaluate(test_images, test_labels)\n",
        "print(f\"Test Accuracy: {results[1]}\")"
      ],
      "metadata": {
        "colab": {
          "base_uri": "https://localhost:8080/"
        },
        "id": "HsOTKeWjec4D",
        "outputId": "df06093f-47f6-46e0-d42d-f5e0651ead19"
      },
      "execution_count": 24,
      "outputs": [
        {
          "output_type": "stream",
          "name": "stdout",
          "text": [
            "157/157 [==============================] - 1s 3ms/step - loss: 1.0330 - accuracy: 0.6454\n",
            "Test Accuracy: 0.6453999876976013\n"
          ]
        }
      ]
    }
  ]
}